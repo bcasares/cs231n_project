{
 "cells": [
  {
   "cell_type": "markdown",
   "metadata": {},
   "source": [
    "# Download Satelite Images\n",
    "This is the Data Notebook to check how the images are being downloaded from Google Cloud"
   ]
  },
  {
   "cell_type": "code",
   "execution_count": 1,
   "metadata": {},
   "outputs": [],
   "source": [
    "%load_ext autoreload\n",
    "%autoreload 2"
   ]
  },
  {
   "cell_type": "code",
   "execution_count": 2,
   "metadata": {},
   "outputs": [],
   "source": [
    "import os\n",
    "os.chdir('/Users/bcasares/git_folders/cs231n/cs231n_project/')"
   ]
  },
  {
   "cell_type": "code",
   "execution_count": 3,
   "metadata": {},
   "outputs": [],
   "source": [
    "from download_images import loadData\n",
    "from download_satelite_images import getSatelliteImageGoogleMap\n",
    "import multiprocessing as mp\n",
    "from pathos.multiprocessing import ProcessingPool as Pool"
   ]
  },
  {
   "cell_type": "code",
   "execution_count": 4,
   "metadata": {},
   "outputs": [
    {
     "name": "stderr",
     "output_type": "stream",
     "text": [
      "/Users/bcasares/anaconda3/lib/python3.7/site-packages/IPython/core/interactiveshell.py:3185: DtypeWarning: Columns (11,37) have mixed types. Specify dtype option on import or set low_memory=False.\n",
      "  if (yield from self.run_code(code, result)):\n"
     ]
    }
   ],
   "source": [
    "data = loadData(\"data/CSVFiles/LAProp_Residential_2017_Only_Houses.csv\")\n",
    "# data.head()"
   ]
  },
  {
   "cell_type": "code",
   "execution_count": 5,
   "metadata": {},
   "outputs": [],
   "source": [
    "# data = data.head(10)"
   ]
  },
  {
   "cell_type": "code",
   "execution_count": 6,
   "metadata": {},
   "outputs": [],
   "source": [
    "pool = Pool(mp.cpu_count())"
   ]
  },
  {
   "cell_type": "code",
   "execution_count": 7,
   "metadata": {},
   "outputs": [],
   "source": [
    "inner = getSatelliteImageGoogleMap(data,location_name=\"Location 1\", row_name=\"rowID\")"
   ]
  },
  {
   "cell_type": "code",
   "execution_count": 10,
   "metadata": {
    "scrolled": false
   },
   "outputs": [
    {
     "ename": "SyntaxError",
     "evalue": "broken PNG file (chunk b'\\x00 \\x00I') (<string>)",
     "output_type": "error",
     "traceback": [
      "Traceback \u001b[0;36m(most recent call last)\u001b[0m:\n",
      "  File \u001b[1;32m\"/Users/bcasares/anaconda3/lib/python3.7/site-packages/IPython/core/interactiveshell.py\"\u001b[0m, line \u001b[1;32m3267\u001b[0m, in \u001b[1;35mrun_code\u001b[0m\n    exec(code_obj, self.user_global_ns, self.user_ns)\n",
      "  File \u001b[1;32m\"<ipython-input-10-1f1b57c7103b>\"\u001b[0m, line \u001b[1;32m1\u001b[0m, in \u001b[1;35m<module>\u001b[0m\n    pool.map(inner, data[\"Location 1\"])\n",
      "  File \u001b[1;32m\"/Users/bcasares/anaconda3/lib/python3.7/site-packages/pathos/multiprocessing.py\"\u001b[0m, line \u001b[1;32m137\u001b[0m, in \u001b[1;35mmap\u001b[0m\n    return _pool.map(star(f), zip(*args)) # chunksize\n",
      "  File \u001b[1;32m\"/Users/bcasares/anaconda3/lib/python3.7/site-packages/multiprocess/pool.py\"\u001b[0m, line \u001b[1;32m268\u001b[0m, in \u001b[1;35mmap\u001b[0m\n    return self._map_async(func, iterable, mapstar, chunksize).get()\n",
      "\u001b[0;36m  File \u001b[0;32m\"/Users/bcasares/anaconda3/lib/python3.7/site-packages/multiprocess/pool.py\"\u001b[0;36m, line \u001b[0;32m657\u001b[0;36m, in \u001b[0;35mget\u001b[0;36m\u001b[0m\n\u001b[0;31m    raise self._value\u001b[0m\n",
      "\u001b[0;36m  File \u001b[0;32m\"<string>\"\u001b[0;36m, line \u001b[0;32munknown\u001b[0m\n\u001b[0;31mSyntaxError\u001b[0m\u001b[0;31m:\u001b[0m broken PNG file (chunk b'\\x00 \\x00I')\n"
     ]
    }
   ],
   "source": [
    "pool.map(inner, data[\"Location 1\"])"
   ]
  },
  {
   "cell_type": "code",
   "execution_count": 9,
   "metadata": {},
   "outputs": [],
   "source": [
    "pool.close()"
   ]
  },
  {
   "cell_type": "code",
   "execution_count": null,
   "metadata": {},
   "outputs": [],
   "source": []
  }
 ],
 "metadata": {
  "kernelspec": {
   "display_name": "Python 3",
   "language": "python",
   "name": "python3"
  },
  "language_info": {
   "codemirror_mode": {
    "name": "ipython",
    "version": 3
   },
   "file_extension": ".py",
   "mimetype": "text/x-python",
   "name": "python",
   "nbconvert_exporter": "python",
   "pygments_lexer": "ipython3",
   "version": "3.7.1"
  }
 },
 "nbformat": 4,
 "nbformat_minor": 2
}
