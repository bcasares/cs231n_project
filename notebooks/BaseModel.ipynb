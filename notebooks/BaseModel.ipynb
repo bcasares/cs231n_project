{
 "cells": [
  {
   "cell_type": "markdown",
   "metadata": {},
   "source": [
    "# Base Model"
   ]
  },
  {
   "cell_type": "code",
   "execution_count": 1,
   "metadata": {},
   "outputs": [],
   "source": [
    "%load_ext autoreload\n",
    "%autoreload 2"
   ]
  },
  {
   "cell_type": "code",
   "execution_count": 2,
   "metadata": {},
   "outputs": [],
   "source": [
    "import os\n",
    "# os.chdir('/home/bcasares/cs231n_project')\n",
    "os.chdir('/Users/bcasares/git_folders/cs231n/cs231n_project/')\n"
   ]
  },
  {
   "cell_type": "code",
   "execution_count": 3,
   "metadata": {},
   "outputs": [],
   "source": [
    "import torch\n",
    "import torch.optim as optim\n",
    "import torch.nn.functional as F  # useful stateless functions\n",
    "import numpy as np"
   ]
  },
  {
   "cell_type": "code",
   "execution_count": 4,
   "metadata": {},
   "outputs": [],
   "source": [
    "import utils\n",
    "import json\n",
    "\n",
    "%matplotlib inline\n",
    "import matplotlib\n",
    "import matplotlib.pyplot as plt\n"
   ]
  },
  {
   "cell_type": "code",
   "execution_count": 5,
   "metadata": {},
   "outputs": [],
   "source": [
    "from download_images import loadData"
   ]
  },
  {
   "cell_type": "code",
   "execution_count": 6,
   "metadata": {},
   "outputs": [],
   "source": [
    "json_path = os.path.join(\"experiments/base_model\", 'params.json')\n",
    "params = utils.Params(json_path)"
   ]
  },
  {
   "cell_type": "code",
   "execution_count": 7,
   "metadata": {},
   "outputs": [],
   "source": [
    "params.cuda = torch.cuda.is_available()"
   ]
  },
  {
   "cell_type": "code",
   "execution_count": 8,
   "metadata": {},
   "outputs": [],
   "source": [
    "from model.data_loader import fetch_dataloader"
   ]
  },
  {
   "cell_type": "code",
   "execution_count": 9,
   "metadata": {},
   "outputs": [],
   "source": [
    "loader_train = fetch_dataloader(\"train\", [\"data/HOUSES_SPLIT\", \"data/HOUSES_SATELLITE_SPLIT\"], params)[\"train\"]\n",
    "loader_val = fetch_dataloader(\"val\", [\"data/HOUSES_SPLIT\", \"data/HOUSES_SATELLITE_SPLIT\"], params)[\"val\"]\n",
    "loader_test = fetch_dataloader(\"test\", [\"data/HOUSES_SPLIT\", \"data/HOUSES_SATELLITE_SPLIT\"], params)[\"test\"]\n",
    "\n",
    "\n",
    "# loader_train = fetch_dataloader(\"train\", [\"data/HOUSES_SPLIT_SMALL\", \"data/HOUSES_SATELLITE_SPLIT_SMALL\"], params)[\"train\"]\n",
    "# loader_val = fetch_dataloader(\"val\", [\"data/HOUSES_SPLIT_SMALL\", \"data/HOUSES_SATELLITE_SPLIT_SMALL\"], params)[\"val\"]\n",
    "# loader_test = fetch_dataloader(\"test\", [\"data/HOUSES_SPLIT_SMALL\", \"data/HOUSES_SATELLITE_SPLIT_SMALL\"], params)[\"test\"]\n"
   ]
  },
  {
   "cell_type": "code",
   "execution_count": 10,
   "metadata": {},
   "outputs": [
    {
     "name": "stdout",
     "output_type": "stream",
     "text": [
      "using device: cpu\n"
     ]
    }
   ],
   "source": [
    "USE_GPU = True\n",
    "\n",
    "dtype = torch.float32 # we will be using float throughout this tutorial\n",
    "\n",
    "if USE_GPU and torch.cuda.is_available():\n",
    "    device = torch.device('cuda')\n",
    "else:\n",
    "    device = torch.device('cpu')\n",
    "\n",
    "# Constant to control how frequently we print train loss\n",
    "print_every = 100\n",
    "\n",
    "print('using device:', device)"
   ]
  },
  {
   "cell_type": "code",
   "execution_count": 11,
   "metadata": {},
   "outputs": [],
   "source": [
    "def check_accuracy_part34(loader, model):\n",
    "    if loader.dataset.train:\n",
    "        print('Checking accuracy on validation set')\n",
    "    else:\n",
    "        print('Checking accuracy on test set')   \n",
    "    rmse_sum = 0\n",
    "    num_samples = 0\n",
    "    model.eval()  # set model to evaluation mode\n",
    "    with torch.no_grad():\n",
    "        for X, y in loader:\n",
    "            x, x2, x3 = X\n",
    "            x = x.to(device=device, dtype=dtype)  # move to device, e.g. GPU\n",
    "            x2 = x2.to(device=device, dtype=dtype)\n",
    "            x3 = x3.to(device=device, dtype=dtype)\n",
    "            \n",
    "            y = y.to(device=device, dtype=torch.float)\n",
    "            join_x = (x,x2,x3)\n",
    "            scores = model(join_x)\n",
    "            preds = scores\n",
    "            rmse_sum += ((preds - y)**2).mean()\n",
    "            num_samples += preds.size(0)\n",
    "        mse = rmse_sum\n",
    "        rmse = np.sqrt(mse)\n",
    "        print(\"The MSE is {}\".format(mse))\n",
    "        print(\"The RMSE is {}\".format(rmse))\n",
    "        return rmse"
   ]
  },
  {
   "cell_type": "code",
   "execution_count": 12,
   "metadata": {},
   "outputs": [],
   "source": [
    "def train_part34(model, optimizer, epochs=1):\n",
    "    \"\"\"\n",
    "    Train a model on using the PyTorch Module API.\n",
    "    \n",
    "    Inputs:\n",
    "    - model: A PyTorch Module giving the model to train.\n",
    "    - optimizer: An Optimizer object we will use to train the model\n",
    "    - epochs: (Optional) A Python integer giving the number of epochs to train for\n",
    "    \n",
    "    Returns: Nothing, but prints model accuracies during training.\n",
    "    \"\"\"\n",
    "    model = model.to(device=device)  # move the model parameters to CPU/GPU\n",
    "    losses = []\n",
    "    for e in range(epochs):\n",
    "        for t, (X, y) in enumerate(loader_train):\n",
    "            x, x2, x3 = X\n",
    "            model.train()  # put model to training mode\n",
    "            x = x.to(device=device, dtype=dtype)  # move to device, e.g. GPU\n",
    "            x2 = x2.to(device=device, dtype=dtype)\n",
    "            x3 = x3.to(device=device, dtype=dtype)\n",
    "            y = y.to(device=device, dtype=torch.float)\n",
    "            join_x = (x, x2, x3)\n",
    "            scores = model(join_x)\n",
    "#             loss = F.smooth_l1_loss(scores, y)\n",
    "            loss = F.mse_loss(scores, y)\n",
    "            losses.append(loss.item())\n",
    "\n",
    "            optimizer.zero_grad()\n",
    "            loss.backward()\n",
    "            optimizer.step()\n",
    "\n",
    "            if t % print_every == 0:\n",
    "                print('Iteration %d, loss = %.4f' % (t, loss.item()))\n",
    "                check_accuracy_part34(loader_val, model)\n",
    "                print()\n",
    "                \n",
    "    return losses "
   ]
  },
  {
   "cell_type": "code",
   "execution_count": 14,
   "metadata": {},
   "outputs": [],
   "source": [
    "from model.net import Net"
   ]
  },
  {
   "cell_type": "code",
   "execution_count": null,
   "metadata": {
    "scrolled": false
   },
   "outputs": [
    {
     "name": "stdout",
     "output_type": "stream",
     "text": [
      "Iteration 0, loss = 177.9932\n",
      "Checking accuracy on test set\n",
      "The MSE is 9547.6455078125\n",
      "The RMSE is 97.71205139160156\n",
      "\n",
      "Iteration 100, loss = 186.9937\n",
      "Checking accuracy on test set\n",
      "The MSE is 9534.9912109375\n",
      "The RMSE is 97.64727783203125\n",
      "\n"
     ]
    }
   ],
   "source": [
    "# learning_rates = [1e-1, 1e-2, 1e-3, 1e-4, 1e-5, 1e-6, 1e-7, 1e-8, 1e-9]\n",
    "# learning_rates = [1e-5, 1e-6, 1e-7, 1e-8, 1e-9]\n",
    "\n",
    "# learning_rates = [1e-2, 2.5e-2, 5e-2, 7.5e-2,  \n",
    "#                   1e-3, 2.5e-3, 5e-3, 7.5e-3,\n",
    "#                   1e-4, 2.5e-4, 5e-4, 7.5e-4,\n",
    "#                   1e-5, 2.5e-5, 5e-5, 7.5e-5,] \n",
    "learning_rates = [1e-4]\n",
    "losses_model = []\n",
    "for learning_rate in learning_rates:\n",
    "    model = Net(params)\n",
    "    optimizer = optim.Adam(model.parameters(), lr=learning_rate)\n",
    "    losses = train_part34(model, optimizer, epochs=100)\n",
    "    losses_model.append(losses)\n",
    "\n"
   ]
  },
  {
   "cell_type": "code",
   "execution_count": 41,
   "metadata": {},
   "outputs": [
    {
     "data": {
      "image/png": "[encoded data removed]",
      "text/plain": [
       "<Figure size 432x288 with 1 Axes>"
      ]
     },
     "metadata": {
      "needs_background": "light"
     },
     "output_type": "display_data"
    }
   ],
   "source": [
    "for i, losses in enumerate(losses_model):\n",
    "    plt.figure()\n",
    "    plt.plot(losses, label = str(i))\n",
    "    plt.legend(loc=\"upper right\")"
   ]
  },
  {
   "cell_type": "code",
   "execution_count": null,
   "metadata": {},
   "outputs": [],
   "source": []
  },
  {
   "cell_type": "code",
   "execution_count": null,
   "metadata": {},
   "outputs": [],
   "source": []
  }
 ],
 "metadata": {
  "kernelspec": {
   "display_name": "Python 3",
   "language": "python",
   "name": "python3"
  },
  "language_info": {
   "codemirror_mode": {
    "name": "ipython",
    "version": 3
   },
   "file_extension": ".py",
   "mimetype": "text/x-python",
   "name": "python",
   "nbconvert_exporter": "python",
   "pygments_lexer": "ipython3",
   "version": "3.7.3"
  }
 },
 "nbformat": 4,
 "nbformat_minor": 2
}
