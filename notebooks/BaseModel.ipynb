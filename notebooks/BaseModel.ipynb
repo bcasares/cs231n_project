{
 "cells": [
  {
   "cell_type": "markdown",
   "metadata": {},
   "source": [
    "# Base Model"
   ]
  },
  {
   "cell_type": "code",
   "execution_count": 1,
   "metadata": {},
   "outputs": [],
   "source": [
    "%load_ext autoreload\n",
    "%autoreload 2"
   ]
  },
  {
   "cell_type": "code",
   "execution_count": 2,
   "metadata": {},
   "outputs": [],
   "source": [
    "import os\n",
    "# os.chdir('/home/bcasares/cs231n_project')\n",
    "os.chdir('/Users/bcasares/git_folders/cs231n/cs231n_project/')\n"
   ]
  },
  {
   "cell_type": "code",
   "execution_count": 3,
   "metadata": {},
   "outputs": [],
   "source": [
    "import torch\n",
    "import torch.nn as nn\n",
    "import torch.optim as optim\n",
    "from torch.utils.data import sampler\n",
    "\n",
    "import torchvision.datasets as dset\n",
    "import torchvision.transforms as T\n",
    "\n",
    "import numpy as np"
   ]
  },
  {
   "cell_type": "code",
   "execution_count": 4,
   "metadata": {},
   "outputs": [],
   "source": [
    "import random\n",
    "import os\n",
    "\n",
    "from PIL import Image\n",
    "from torch.utils.data import Dataset, DataLoader\n",
    "import torchvision.transforms as transforms\n",
    "\n",
    "from download_images import loadData\n",
    "from preprocess_data import extractName, getDataLabels"
   ]
  },
  {
   "cell_type": "code",
   "execution_count": 5,
   "metadata": {},
   "outputs": [],
   "source": [
    "import torch.nn.functional as F  # useful stateless functions"
   ]
  },
  {
   "cell_type": "code",
   "execution_count": 6,
   "metadata": {},
   "outputs": [],
   "source": [
    "import utils\n",
    "import json\n",
    "\n",
    "%matplotlib inline\n",
    "import matplotlib\n",
    "import matplotlib.pyplot as plt\n"
   ]
  },
  {
   "cell_type": "code",
   "execution_count": 7,
   "metadata": {},
   "outputs": [],
   "source": [
    "json_path = os.path.join(\"experiments/base_model\", 'params.json')\n",
    "params = utils.Params(json_path)"
   ]
  },
  {
   "cell_type": "code",
   "execution_count": 8,
   "metadata": {},
   "outputs": [],
   "source": [
    "class Params():\n",
    "    \"\"\"Class that loads hyperparameters from a json file.\n",
    "\n",
    "    Example:\n",
    "    ```\n",
    "    params = Params(json_path)\n",
    "    print(params.learning_rate)\n",
    "    params.learning_rate = 0.5  # change the value of learning_rate in params\n",
    "    ```\n",
    "    \"\"\"\n",
    "\n",
    "    def __init__(self, json_path):\n",
    "        with open(json_path) as f:\n",
    "            params = json.load(f)\n",
    "            self.__dict__.update(params)\n",
    "\n",
    "    def save(self, json_path):\n",
    "        with open(json_path, 'w') as f:\n",
    "            json.dump(self.__dict__, f, indent=4)\n",
    "            \n",
    "    def update(self, json_path):\n",
    "        \"\"\"Loads parameters from json file\"\"\"\n",
    "        with open(json_path) as f:\n",
    "            params = json.load(f)\n",
    "            self.__dict__.update(params)\n",
    "\n",
    "    @property\n",
    "    def dict(self):\n",
    "        \"\"\"Gives dict-like access to Params instance by `params.dict['learning_rate']\"\"\"\n",
    "        return self.__dict__"
   ]
  },
  {
   "cell_type": "code",
   "execution_count": 9,
   "metadata": {},
   "outputs": [],
   "source": [
    "params = Params(json_path)\n",
    "params.cuda = torch.cuda.is_available()\n"
   ]
  },
  {
   "cell_type": "code",
   "execution_count": 10,
   "metadata": {},
   "outputs": [],
   "source": [
    "from model.data_loader import fetch_dataloader"
   ]
  },
  {
   "cell_type": "code",
   "execution_count": 11,
   "metadata": {},
   "outputs": [],
   "source": [
    "# loader_train = fetch_dataloader(\"train\", \"data/HOUSES_SPLIT\", \"data/HOUSES_SATELLITE_SPLIT\", params)[\"train\"]\n",
    "# loader_val = fetch_dataloader(\"val\", \"data/HOUSES_SPLIT\", \"data/HOUSES_SATELLITE_SPLIT\", params)[\"val\"]\n",
    "# loader_test = fetch_dataloader(\"test\", \"data/HOUSES_SPLIT\", \"data/HOUSES_SATELLITE_SPLIT\", params)[\"test\"]\n",
    "\n",
    "\n",
    "\n",
    "loader_train = fetch_dataloader(\"train\", \"data/HOUSES_SPLIT_SMALL\", \"data/HOUSES_SATELLITE_SPLIT_SMALL\", params)[\"train\"]\n",
    "loader_val = fetch_dataloader(\"val\", \"data/HOUSES_SPLIT_SMALL\", \"data/HOUSES_SATELLITE_SPLIT_SMALL\", params)[\"val\"]\n",
    "loader_test = fetch_dataloader(\"test\", \"data/HOUSES_SPLIT_SMALL\", \"data/HOUSES_SATELLITE_SPLIT_SMALL\", params)[\"test\"]\n"
   ]
  },
  {
   "cell_type": "code",
   "execution_count": 12,
   "metadata": {},
   "outputs": [
    {
     "name": "stdout",
     "output_type": "stream",
     "text": [
      "using device: cpu\n"
     ]
    }
   ],
   "source": [
    "USE_GPU = True\n",
    "\n",
    "dtype = torch.float32 # we will be using float throughout this tutorial\n",
    "\n",
    "if USE_GPU and torch.cuda.is_available():\n",
    "    device = torch.device('cuda')\n",
    "else:\n",
    "    device = torch.device('cpu')\n",
    "\n",
    "# Constant to control how frequently we print train loss\n",
    "print_every = 100\n",
    "\n",
    "print('using device:', device)"
   ]
  },
  {
   "cell_type": "code",
   "execution_count": null,
   "metadata": {},
   "outputs": [],
   "source": []
  },
  {
   "cell_type": "code",
   "execution_count": 13,
   "metadata": {},
   "outputs": [],
   "source": [
    "def check_accuracy_part34(loader, model):\n",
    "    if loader.dataset.train:\n",
    "        print('Checking accuracy on validation set')\n",
    "    else:\n",
    "        print('Checking accuracy on test set')   \n",
    "    rmse_sum = 0\n",
    "    num_samples = 0\n",
    "    model.eval()  # set model to evaluation mode\n",
    "    with torch.no_grad():\n",
    "        for x, x2, x3, y in loader:\n",
    "            x = x.to(device=device, dtype=dtype)  # move to device, e.g. GPU\n",
    "            x2 = x2.to(device=device, dtype=dtype)\n",
    "            x3 = x3.to(device=device, dtype=dtype)\n",
    "            \n",
    "            y = y.to(device=device, dtype=torch.float)\n",
    "            join_x = (x,x2,x3)\n",
    "            scores = model(join_x)\n",
    "            preds = scores\n",
    "            rmse_sum += ((preds - y)**2).sum()\n",
    "            num_samples += preds.size(0)\n",
    "        rmse = np.sqrt(float(rmse_sum)) / num_samples\n",
    "        print(\"The RMSE is {}\".format(rmse))\n",
    "        return rmse"
   ]
  },
  {
   "cell_type": "code",
   "execution_count": 14,
   "metadata": {},
   "outputs": [],
   "source": [
    "def train_part34(model, optimizer, epochs=1):\n",
    "    \"\"\"\n",
    "    Train a model on using the PyTorch Module API.\n",
    "    \n",
    "    Inputs:\n",
    "    - model: A PyTorch Module giving the model to train.\n",
    "    - optimizer: An Optimizer object we will use to train the model\n",
    "    - epochs: (Optional) A Python integer giving the number of epochs to train for\n",
    "    \n",
    "    Returns: Nothing, but prints model accuracies during training.\n",
    "    \"\"\"\n",
    "    model = model.to(device=device)  # move the model parameters to CPU/GPU\n",
    "    losses = []\n",
    "    for e in range(epochs):\n",
    "        for t, (x, x2, x3, y) in enumerate(loader_train):\n",
    "            \n",
    "            model.train()  # put model to training mode\n",
    "            x = x.to(device=device, dtype=dtype)  # move to device, e.g. GPU\n",
    "            x2 = x2.to(device=device, dtype=dtype)\n",
    "            x3 = x3.to(device=device, dtype=dtype)\n",
    "            y = y.to(device=device, dtype=torch.float)\n",
    "            join_x = (x, x2, x3)\n",
    "            scores = model(join_x)\n",
    "            loss = F.smooth_l1_loss(scores, y)\n",
    "            losses.append(loss.item())\n",
    "\n",
    "            # Zero out all of the gradients for the variables which the optimizer\n",
    "            # will update.\n",
    "            optimizer.zero_grad()\n",
    "\n",
    "            # This is the backwards pass: compute the gradient of the loss with\n",
    "            # respect to each  parameter of the model.\n",
    "            loss.backward()\n",
    "\n",
    "            # Actually update the parameters of the model using the gradients\n",
    "            # computed by the backwards pass.\n",
    "            optimizer.step()\n",
    "\n",
    "            if t % print_every == 0:\n",
    "                print('Iteration %d, loss = %.4f' % (t, loss.item()))\n",
    "                check_accuracy_part34(loader_val, model)\n",
    "                print()\n",
    "                \n",
    "    return losses "
   ]
  },
  {
   "cell_type": "code",
   "execution_count": 15,
   "metadata": {},
   "outputs": [],
   "source": [
    "from model.net import ThreeLayerConvNet"
   ]
  },
  {
   "cell_type": "code",
   "execution_count": 17,
   "metadata": {},
   "outputs": [
    {
     "name": "stdout",
     "output_type": "stream",
     "text": [
      "Iteration 0, loss = 21020.4629\n",
      "Checking accuracy on test set\n",
      "The RMSE is 15146.325780201612\n",
      "\n",
      "Iteration 0, loss = 20638.6309\n",
      "Checking accuracy on test set\n",
      "The RMSE is 14829.614824397833\n",
      "\n",
      "Iteration 0, loss = 20257.7695\n",
      "Checking accuracy on test set\n",
      "The RMSE is 14512.823791392217\n",
      "\n",
      "Iteration 0, loss = 19876.8320\n",
      "Checking accuracy on test set\n",
      "The RMSE is 14195.953812266369\n",
      "\n",
      "Iteration 0, loss = 19495.8301\n",
      "Checking accuracy on test set\n",
      "The RMSE is 13879.025302952654\n",
      "\n",
      "Iteration 0, loss = 19114.7578\n",
      "Checking accuracy on test set\n",
      "The RMSE is 13562.045485840255\n",
      "\n",
      "Iteration 0, loss = 18733.5781\n",
      "Checking accuracy on test set\n",
      "The RMSE is 13245.0207278056\n",
      "\n",
      "Iteration 0, loss = 18352.3613\n",
      "Checking accuracy on test set\n",
      "The RMSE is 12927.958415774705\n",
      "\n",
      "Iteration 0, loss = 17971.0645\n",
      "Checking accuracy on test set\n",
      "The RMSE is 12610.861807188277\n",
      "\n",
      "Iteration 0, loss = 17589.6973\n",
      "Checking accuracy on test set\n",
      "The RMSE is 12293.735328206802\n",
      "\n"
     ]
    }
   ],
   "source": [
    "# learning_rates = [1e-2, 1e-2, 1e-3, 1e-4, 1e-5, 1e-6, 1e-7, 1e-8, 1e-9]\n",
    "# learning_rates = [1e-2, 2.5e-2, 5e-2, 7.5e-2,  \n",
    "#                   1e-3, 2.5e-3, 5e-3, 7.5e-3,\n",
    "#                   1e-4, 2.5e-4, 5e-4, 7.5e-4,\n",
    "#                   1e-5, 2.5e-5, 5e-5, 7.5e-5,] \n",
    "learning_rates = [1e-3] \n",
    "channel_1 = 32\n",
    "channel_2 = 16\n",
    "\n",
    "model = ThreeLayerConvNet(3, channel_1, channel_2, 1)\n",
    "losses_model = []\n",
    "for learning_rate in learning_rates:\n",
    "    optimizer = optim.Adam(model.parameters(), lr=learning_rate)\n",
    "    losses = train_part34(model, optimizer, epochs=10)\n",
    "    losses_model.append(losses)\n",
    "\n"
   ]
  },
  {
   "cell_type": "code",
   "execution_count": 18,
   "metadata": {
    "scrolled": false
   },
   "outputs": [
    {
     "data": {
      "image/png": "[encoded data removed]",
      "text/plain": [
       "<Figure size 432x288 with 1 Axes>"
      ]
     },
     "metadata": {
      "needs_background": "light"
     },
     "output_type": "display_data"
    }
   ],
   "source": [
    "for i, losses in enumerate(losses_model):\n",
    "    plt.figure()\n",
    "    plt.plot(losses, label = str(i))\n",
    "    plt.legend(loc=\"upper right\")"
   ]
  },
  {
   "cell_type": "code",
   "execution_count": null,
   "metadata": {},
   "outputs": [],
   "source": []
  },
  {
   "cell_type": "code",
   "execution_count": null,
   "metadata": {},
   "outputs": [],
   "source": []
  }
 ],
 "metadata": {
  "kernelspec": {
   "display_name": "Python 3",
   "language": "python",
   "name": "python3"
  },
  "language_info": {
   "codemirror_mode": {
    "name": "ipython",
    "version": 3
   },
   "file_extension": ".py",
   "mimetype": "text/x-python",
   "name": "python",
   "nbconvert_exporter": "python",
   "pygments_lexer": "ipython3",
   "version": "3.7.3"
  }
 },
 "nbformat": 4,
 "nbformat_minor": 2
}
