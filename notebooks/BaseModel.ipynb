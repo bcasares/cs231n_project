{
 "cells": [
  {
   "cell_type": "markdown",
   "metadata": {},
   "source": [
    "# Base Model"
   ]
  },
  {
   "cell_type": "code",
   "execution_count": 1,
   "metadata": {},
   "outputs": [],
   "source": [
    "%load_ext autoreload\n",
    "%autoreload 2"
   ]
  },
  {
   "cell_type": "code",
   "execution_count": 2,
   "metadata": {},
   "outputs": [],
   "source": [
    "import os\n",
    "# os.chdir('/home/bcasares/cs231n_project')\n",
    "os.chdir('/Users/bcasares/git_folders/cs231n/cs231n_project/')"
   ]
  },
  {
   "cell_type": "code",
   "execution_count": 3,
   "metadata": {},
   "outputs": [],
   "source": [
    "import torch\n",
    "import torch.nn as nn\n",
    "import torch.optim as optim\n",
    "from torch.utils.data import sampler\n",
    "\n",
    "import torchvision.datasets as dset\n",
    "import torchvision.transforms as T\n",
    "\n",
    "import numpy as np"
   ]
  },
  {
   "cell_type": "code",
   "execution_count": 4,
   "metadata": {},
   "outputs": [],
   "source": [
    "import random\n",
    "import os\n",
    "\n",
    "from PIL import Image\n",
    "from torch.utils.data import Dataset, DataLoader\n",
    "import torchvision.transforms as transforms\n",
    "\n",
    "from download_images import loadData\n",
    "from preprocess_data import extractName, getDataLabels"
   ]
  },
  {
   "cell_type": "code",
   "execution_count": 5,
   "metadata": {},
   "outputs": [],
   "source": [
    "import torch.nn.functional as F  # useful stateless functions"
   ]
  },
  {
   "cell_type": "code",
   "execution_count": 6,
   "metadata": {},
   "outputs": [],
   "source": [
    "import utils\n",
    "import json\n",
    "\n",
    "%matplotlib inline\n",
    "import matplotlib\n",
    "import matplotlib.pyplot as plt"
   ]
  },
  {
   "cell_type": "code",
   "execution_count": 7,
   "metadata": {},
   "outputs": [],
   "source": [
    "def flatten(x):\n",
    "    N = x.shape[0] # read in N, C, H, W\n",
    "    return x.view(N, -1)  # \"flatten\" the C * H * W values into a single vector per image"
   ]
  },
  {
   "cell_type": "code",
   "execution_count": 8,
   "metadata": {},
   "outputs": [],
   "source": [
    "# borrowed from http://pytorch.org/tutorials/advanced/neural_style_tutorial.html\n",
    "# and http://pytorch.org/tutorials/beginner/data_loading_tutorial.html\n",
    "# define a training image loader that specifies transforms on images. See documentation for more details.\n",
    "train_transformer = transforms.Compose([\n",
    "    transforms.Resize(64),  # resize the image to 64x64 (remove if images are already 64x64)\n",
    "    transforms.RandomVerticalFlip(),  # randomly flip image vertically\n",
    "    transforms.ToTensor()])  # transform it into a torch tensor\n",
    "\n",
    "# loader for evaluation, no horizontal flip\n",
    "eval_transformer = transforms.Compose([\n",
    "    transforms.Resize(64),  # resize the image to 64x64 (remove if images are already 64x64)\n",
    "    transforms.ToTensor()])  # transform it into a torch tensor\n",
    "\n",
    "\n",
    "class HOUSEDataset(Dataset):\n",
    "    \"\"\"\n",
    "    A standard PyTorch definition of Dataset which defines the functions __len__ and __getitem__.\n",
    "    \"\"\"\n",
    "    def __init__(self, data_dir, transform, train):\n",
    "        \"\"\"\n",
    "        Store the filenames of the jpgs to use. Specifies transforms to apply on images.\n",
    "\n",
    "        Args:\n",
    "            data_dir: (string) directory containing the dataset\n",
    "            transform: (torchvision.transforms) transformation to apply on image\n",
    "        \"\"\"\n",
    "        self.data = getDataLabels()\n",
    "        self.filenames = os.listdir(data_dir)\n",
    "        self.filenames = [os.path.join(data_dir, f) for f in self.filenames if f.endswith('.jpg')]\n",
    "\n",
    "        # self.labels = [int(os.path.split(filename)[-1][0]) for filename in self.filenames]\n",
    "        self.labels = self.getImagesLabel(y_id=\"log_total_value\")\n",
    "#         print(self.labels)\n",
    "        self.transform = transform\n",
    "        self.train = train\n",
    "\n",
    "    def getImagesLabel(self, id_=\"rowID\", y_id=\"class_label\"):\n",
    "        ids = list(map(extractName, self.filenames))\n",
    "        label = self.data[self.data[id_].isin(ids)][y_id].tolist()\n",
    "        return label\n",
    "\n",
    "    def __len__(self):\n",
    "        # return size of dataset\n",
    "        return len(self.filenames)\n",
    "\n",
    "    def __getitem__(self, idx):\n",
    "        \"\"\"\n",
    "        Fetch index idx image and labels from dataset. Perform transforms on image.\n",
    "\n",
    "        Args:\n",
    "            idx: (int) index in [0, 1, ..., size_of_dataset-1]\n",
    "\n",
    "        Returns:\n",
    "            image: (Tensor) transformed image\n",
    "            label: (int) corresponding label of image\n",
    "        \"\"\"\n",
    "        image = Image.open(self.filenames[idx])  # PIL image\n",
    "        image = self.transform(image)\n",
    "        label = self.labels[idx]\n",
    "        return image, label\n",
    "\n",
    "\n",
    "def fetch_dataloader(types, data_dir, params):\n",
    "    \"\"\"\n",
    "    Fetches the DataLoader object for each type in types from data_dir.\n",
    "\n",
    "    Args:\n",
    "        types: (list) has one or more of 'train', 'val', 'test' depending on which data is required\n",
    "        data_dir: (string) directory containing the dataset\n",
    "        params: (Params) hyperparameters\n",
    "\n",
    "    Returns:\n",
    "        data: (dict) contains the DataLoader object for each type in types\n",
    "    \"\"\"\n",
    "    dataloaders = {}\n",
    "\n",
    "    for split in ['train', 'val', 'test']:\n",
    "        if split in types:\n",
    "            path = os.path.join(data_dir, \"{}\".format(split))\n",
    "\n",
    "            # use the train_transformer if training data, else use eval_transformer without random flip\n",
    "            if split == 'train':\n",
    "                dl = DataLoader(HOUSEDataset(path, train_transformer, train=True), batch_size=params.batch_size, shuffle=True,\n",
    "                                        num_workers=params.num_workers,\n",
    "                                        pin_memory=params.cuda)\n",
    "            if split == \"val\":\n",
    "                dl = DataLoader(HOUSEDataset(path, eval_transformer, train=False), batch_size=params.batch_size, shuffle=False,\n",
    "                                num_workers=params.num_workers,\n",
    "                                pin_memory=params.cuda)\n",
    "            else:\n",
    "                dl = DataLoader(HOUSEDataset(path, eval_transformer, train=False), batch_size=params.batch_size, shuffle=False,\n",
    "                                num_workers=params.num_workers,\n",
    "                                pin_memory=params.cuda)\n",
    "\n",
    "            dataloaders[split] = dl\n",
    "\n",
    "    return dataloaders"
   ]
  },
  {
   "cell_type": "code",
   "execution_count": 9,
   "metadata": {},
   "outputs": [],
   "source": [
    "json_path = os.path.join(\"experiments/base_model\", 'params.json')\n",
    "params = utils.Params(json_path)"
   ]
  },
  {
   "cell_type": "code",
   "execution_count": 10,
   "metadata": {},
   "outputs": [],
   "source": [
    "class Params():\n",
    "    \"\"\"Class that loads hyperparameters from a json file.\n",
    "\n",
    "    Example:\n",
    "    ```\n",
    "    params = Params(json_path)\n",
    "    print(params.learning_rate)\n",
    "    params.learning_rate = 0.5  # change the value of learning_rate in params\n",
    "    ```\n",
    "    \"\"\"\n",
    "\n",
    "    def __init__(self, json_path):\n",
    "        with open(json_path) as f:\n",
    "            params = json.load(f)\n",
    "            self.__dict__.update(params)\n",
    "\n",
    "    def save(self, json_path):\n",
    "        with open(json_path, 'w') as f:\n",
    "            json.dump(self.__dict__, f, indent=4)\n",
    "            \n",
    "    def update(self, json_path):\n",
    "        \"\"\"Loads parameters from json file\"\"\"\n",
    "        with open(json_path) as f:\n",
    "            params = json.load(f)\n",
    "            self.__dict__.update(params)\n",
    "\n",
    "    @property\n",
    "    def dict(self):\n",
    "        \"\"\"Gives dict-like access to Params instance by `params.dict['learning_rate']\"\"\"\n",
    "        return self.__dict__"
   ]
  },
  {
   "cell_type": "code",
   "execution_count": 11,
   "metadata": {},
   "outputs": [],
   "source": [
    "params = Params(json_path)\n",
    "params.cuda = torch.cuda.is_available()\n"
   ]
  },
  {
   "cell_type": "code",
   "execution_count": 12,
   "metadata": {},
   "outputs": [
    {
     "name": "stderr",
     "output_type": "stream",
     "text": [
      "/Users/bcasares/anaconda3/envs/cs231n/lib/python3.7/site-packages/ipykernel_launcher.py:83: DtypeWarning: Columns (11,37) have mixed types. Specify dtype option on import or set low_memory=False.\n",
      "/Users/bcasares/anaconda3/envs/cs231n/lib/python3.7/site-packages/ipykernel_launcher.py:91: DtypeWarning: Columns (11,37) have mixed types. Specify dtype option on import or set low_memory=False.\n",
      "/Users/bcasares/anaconda3/envs/cs231n/lib/python3.7/site-packages/ipykernel_launcher.py:87: DtypeWarning: Columns (11,37) have mixed types. Specify dtype option on import or set low_memory=False.\n"
     ]
    }
   ],
   "source": [
    "loader_train = fetch_dataloader(\"train\", \"data/HOUSES_SPLIT_SMALL\", params)[\"train\"]\n",
    "loader_val = fetch_dataloader(\"val\", \"data/HOUSES_SPLIT_SMALL\", params)[\"val\"]\n",
    "loader_test = fetch_dataloader(\"test\", \"data/HOUSES_SPLIT_SMALL\", params)[\"test\"]"
   ]
  },
  {
   "cell_type": "code",
   "execution_count": 13,
   "metadata": {},
   "outputs": [
    {
     "name": "stdout",
     "output_type": "stream",
     "text": [
      "using device: cpu\n"
     ]
    }
   ],
   "source": [
    "USE_GPU = True\n",
    "\n",
    "dtype = torch.float32 # we will be using float throughout this tutorial\n",
    "\n",
    "if USE_GPU and torch.cuda.is_available():\n",
    "    device = torch.device('cuda')\n",
    "else:\n",
    "    device = torch.device('cpu')\n",
    "\n",
    "# Constant to control how frequently we print train loss\n",
    "print_every = 100\n",
    "\n",
    "print('using device:', device)"
   ]
  },
  {
   "cell_type": "code",
   "execution_count": 14,
   "metadata": {},
   "outputs": [],
   "source": [
    "class ThreeLayerConvNet(nn.Module):\n",
    "    def __init__(self, in_channel, channel_1, channel_2, num_classes):\n",
    "        super().__init__()\n",
    "        ########################################################################\n",
    "        # TODO: Set up the layers you need for a three-layer ConvNet with the  #\n",
    "        # architecture defined above.                                          #\n",
    "        ########################################################################\n",
    "        # *****START OF YOUR CODE (DO NOT DELETE/MODIFY THIS LINE)*****\n",
    "        self.conv_w1 = nn.Conv2d(in_channel, channel_1, kernel_size=5, padding=2, bias=True)\n",
    "        nn.init.kaiming_normal_(self.conv_w1.weight)\n",
    "        self.conv_w2 = nn.Conv2d(channel_1, channel_2, kernel_size=3, padding=1, bias=True)\n",
    "        nn.init.kaiming_normal_(self.conv_w2.weight)\n",
    "        self.fc = nn.Linear(channel_2*64*64, num_classes, bias=True)\n",
    "        nn.init.kaiming_normal_(self.fc.weight)\n",
    "        # *****END OF YOUR CODE (DO NOT DELETE/MODIFY THIS LINE)*****\n",
    "        ########################################################################\n",
    "        #                          END OF YOUR CODE                            #       \n",
    "        ########################################################################\n",
    "\n",
    "    def forward(self, x):\n",
    "        scores = None\n",
    "        ########################################################################\n",
    "        # TODO: Implement the forward function for a 3-layer ConvNet. you      #\n",
    "        # should use the layers you defined in __init__ and specify the        #\n",
    "        # connectivity of those layers in forward()                            #\n",
    "        ########################################################################\n",
    "        # *****START OF YOUR CODE (DO NOT DELETE/MODIFY THIS LINE)*****     \n",
    "        out = x\n",
    "        out = self.conv_w1(out)\n",
    "        out = F.relu(out)\n",
    "        out = self.conv_w2(out)\n",
    "        out = F.relu(out)\n",
    "        out = flatten(out)\n",
    "        out = self.fc(out)\n",
    "        scores = out\n",
    "        # *****END OF YOUR CODE (DO NOT DELETE/MODIFY THIS LINE)*****\n",
    "        ########################################################################\n",
    "        #                             END OF YOUR CODE                         #\n",
    "        ########################################################################\n",
    "        return scores\n"
   ]
  },
  {
   "cell_type": "code",
   "execution_count": 15,
   "metadata": {},
   "outputs": [],
   "source": [
    "def check_accuracy_part34(loader, model):\n",
    "    if loader.dataset.train:\n",
    "        print('Checking accuracy on validation set')\n",
    "    else:\n",
    "        print('Checking accuracy on test set')   \n",
    "    num_correct = 0\n",
    "    num_samples = 0\n",
    "    model.eval()  # set model to evaluation mode\n",
    "    with torch.no_grad():\n",
    "        for x, y in loader:\n",
    "            x = x.to(device=device, dtype=dtype)  # move to device, e.g. GPU\n",
    "            y = y.to(device=device, dtype=torch.long)\n",
    "            scores = model(x)\n",
    "            _, preds = scores.max(1)\n",
    "            num_correct += (preds == y).sum()\n",
    "            num_samples += preds.size(0)\n",
    "        acc = float(num_correct) / num_samples\n",
    "        print('Got %d / %d correct (%.2f)' % (num_correct, num_samples, 100 * acc))\n",
    "        return acc"
   ]
  },
  {
   "cell_type": "code",
   "execution_count": 16,
   "metadata": {},
   "outputs": [],
   "source": [
    "def train_part34(model, optimizer, epochs=1):\n",
    "    \"\"\"\n",
    "    Train a model on CIFAR-10 using the PyTorch Module API.\n",
    "    \n",
    "    Inputs:\n",
    "    - model: A PyTorch Module giving the model to train.\n",
    "    - optimizer: An Optimizer object we will use to train the model\n",
    "    - epochs: (Optional) A Python integer giving the number of epochs to train for\n",
    "    \n",
    "    Returns: Nothing, but prints model accuracies during training.\n",
    "    \"\"\"\n",
    "    model = model.to(device=device)  # move the model parameters to CPU/GPU\n",
    "    losses = []\n",
    "    for e in range(epochs):\n",
    "        for t, (x, y) in enumerate(loader_train):\n",
    "            model.train()  # put model to training mode\n",
    "            x = x.to(device=device, dtype=dtype)  # move to device, e.g. GPU\n",
    "            y = y.to(device=device, dtype=torch.float)\n",
    "\n",
    "            scores = model(x)\n",
    "#             print(scores)\n",
    "#             print(y)\n",
    "            loss = F.smooth_l1_loss(scores, y)\n",
    "#             loss = F.cross_entropy(scores, y)\n",
    "            losses.append(loss.item())\n",
    "\n",
    "            # Zero out all of the gradients for the variables which the optimizer\n",
    "            # will update.\n",
    "            optimizer.zero_grad()\n",
    "\n",
    "            # This is the backwards pass: compute the gradient of the loss with\n",
    "            # respect to each  parameter of the model.\n",
    "            loss.backward()\n",
    "\n",
    "            # Actually update the parameters of the model using the gradients\n",
    "            # computed by the backwards pass.\n",
    "            optimizer.step()\n",
    "\n",
    "            if t % print_every == 0:\n",
    "                print('Iteration %d, loss = %.4f' % (t, loss.item()))\n",
    "                check_accuracy_part34(loader_val, model)\n",
    "                print()\n",
    "                \n",
    "    return losses "
   ]
  },
  {
   "cell_type": "code",
   "execution_count": 17,
   "metadata": {},
   "outputs": [],
   "source": [
    "# learning_rate = 3e-3\n",
    "# channel_1 = 32\n",
    "# channel_2 = 16\n",
    "\n",
    "# model = None\n",
    "# optimizer = None\n",
    "# ################################################################################\n",
    "# # TODO: Instantiate your ThreeLayerConvNet model and a corresponding optimizer #\n",
    "# ################################################################################\n",
    "# # *****START OF YOUR CODE (DO NOT DELETE/MODIFY THIS LINE)*****\n",
    "# model = ThreeLayerConvNet(3, channel_1, channel_2, 6)\n",
    "# optimizer = optim.SGD(model.parameters(), lr=learning_rate)\n",
    "# # *****END OF YOUR CODE (DO NOT DELETE/MODIFY THIS LINE)*****\n",
    "# ################################################################################\n",
    "# #                                 END OF YOUR CODE                             \n",
    "# ################################################################################\n",
    "\n",
    "# losses = train_part34(model, optimizer, epochs=1)"
   ]
  },
  {
   "cell_type": "code",
   "execution_count": 57,
   "metadata": {},
   "outputs": [
    {
     "name": "stdout",
     "output_type": "stream",
     "text": [
      "Iteration 0, loss = 12.1894\n",
      "Checking accuracy on test set\n",
      "Got 0 / 20 correct (0.00)\n",
      "\n",
      "Iteration 0, loss = 153.0196\n",
      "Checking accuracy on test set\n",
      "Got 0 / 20 correct (0.00)\n",
      "\n",
      "Iteration 0, loss = 444.5160\n",
      "Checking accuracy on test set\n",
      "Got 0 / 20 correct (0.00)\n",
      "\n",
      "Iteration 0, loss = 77.4853\n",
      "Checking accuracy on test set\n",
      "Got 0 / 20 correct (0.00)\n",
      "\n",
      "Iteration 0, loss = 9.6511\n",
      "Checking accuracy on test set\n",
      "Got 0 / 20 correct (0.00)\n",
      "\n",
      "Iteration 0, loss = 12.1029\n",
      "Checking accuracy on test set\n",
      "Got 0 / 20 correct (0.00)\n",
      "\n",
      "Iteration 0, loss = 12.0148\n",
      "Checking accuracy on test set\n",
      "Got 0 / 20 correct (0.00)\n",
      "\n",
      "Iteration 0, loss = 11.9111\n",
      "Checking accuracy on test set\n",
      "Got 0 / 20 correct (0.00)\n",
      "\n",
      "Iteration 0, loss = 11.7966\n",
      "Checking accuracy on test set\n",
      "Got 0 / 20 correct (0.00)\n",
      "\n",
      "Iteration 0, loss = 11.6740\n",
      "Checking accuracy on test set\n",
      "Got 0 / 20 correct (0.00)\n",
      "\n",
      "Iteration 0, loss = 11.5454\n",
      "Checking accuracy on test set\n",
      "Got 0 / 20 correct (0.00)\n",
      "\n",
      "Iteration 0, loss = 11.5434\n",
      "Checking accuracy on test set\n",
      "Got 0 / 20 correct (0.00)\n",
      "\n",
      "Iteration 0, loss = 11.5414\n",
      "Checking accuracy on test set\n",
      "Got 0 / 20 correct (0.00)\n",
      "\n",
      "Iteration 0, loss = 11.5394\n",
      "Checking accuracy on test set\n",
      "Got 0 / 20 correct (0.00)\n",
      "\n",
      "Iteration 0, loss = 11.5374\n",
      "Checking accuracy on test set\n",
      "Got 0 / 20 correct (0.00)\n",
      "\n",
      "Iteration 0, loss = 11.5354\n",
      "Checking accuracy on test set\n",
      "Got 0 / 20 correct (0.00)\n",
      "\n",
      "Iteration 0, loss = 11.5334\n",
      "Checking accuracy on test set\n",
      "Got 0 / 20 correct (0.00)\n",
      "\n",
      "Iteration 0, loss = 11.5314\n",
      "Checking accuracy on test set\n",
      "Got 0 / 20 correct (0.00)\n",
      "\n",
      "Iteration 0, loss = 11.5294\n",
      "Checking accuracy on test set\n",
      "Got 0 / 20 correct (0.00)\n",
      "\n",
      "Iteration 0, loss = 11.5274\n",
      "Checking accuracy on test set\n",
      "Got 0 / 20 correct (0.00)\n",
      "\n",
      "Iteration 0, loss = 11.5254\n",
      "Checking accuracy on test set\n",
      "Got 0 / 20 correct (0.00)\n",
      "\n",
      "Iteration 0, loss = 11.5252\n",
      "Checking accuracy on test set\n",
      "Got 0 / 20 correct (0.00)\n",
      "\n",
      "Iteration 0, loss = 11.5250\n",
      "Checking accuracy on test set\n",
      "Got 0 / 20 correct (0.00)\n",
      "\n",
      "Iteration 0, loss = 11.5248\n",
      "Checking accuracy on test set\n",
      "Got 0 / 20 correct (0.00)\n",
      "\n",
      "Iteration 0, loss = 11.5246\n",
      "Checking accuracy on test set\n",
      "Got 0 / 20 correct (0.00)\n",
      "\n",
      "Iteration 0, loss = 11.5244\n",
      "Checking accuracy on test set\n",
      "Got 0 / 20 correct (0.00)\n",
      "\n",
      "Iteration 0, loss = 11.5242\n",
      "Checking accuracy on test set\n",
      "Got 0 / 20 correct (0.00)\n",
      "\n",
      "Iteration 0, loss = 11.5240\n",
      "Checking accuracy on test set\n",
      "Got 0 / 20 correct (0.00)\n",
      "\n",
      "Iteration 0, loss = 11.5238\n",
      "Checking accuracy on test set\n",
      "Got 0 / 20 correct (0.00)\n",
      "\n",
      "Iteration 0, loss = 11.5236\n",
      "Checking accuracy on test set\n",
      "Got 0 / 20 correct (0.00)\n",
      "\n"
     ]
    }
   ],
   "source": [
    "# learning_rates = [1e-2, 1e-2, 1e-3, 1e-4, 1e-5, 1e-6, 1e-7, 1e-8, 1e-9]\n",
    "# learning_rates = [1e-2, 2.5e-2, 5e-2, 7.5e-2,  \n",
    "#                   1e-3, 2.5e-3, 5e-3, 7.5e-3,\n",
    "#                   1e-4, 2.5e-4, 5e-4, 7.5e-4,\n",
    "#                   1e-5, 2.5e-5, 5e-5, 7.5e-5,] \n",
    "learning_rates = [1e-3] \n",
    "channel_1 = 32\n",
    "channel_2 = 16\n",
    "\n",
    "model = ThreeLayerConvNet(3, channel_1, channel_2, 1)\n",
    "losses_model = []\n",
    "for learning_rate in learning_rates:\n",
    "    optimizer = optim.Adam(model.parameters(), lr=learning_rate)\n",
    "    losses = train_part34(model, optimizer, epochs=10)\n",
    "    losses_model.append(losses)\n",
    "\n"
   ]
  },
  {
   "cell_type": "code",
   "execution_count": 58,
   "metadata": {
    "scrolled": false
   },
   "outputs": [
    {
     "data": {
      "image/png": "[encoded data removed]",
      "text/plain": [
       "<Figure size 432x288 with 1 Axes>"
      ]
     },
     "metadata": {
      "needs_background": "light"
     },
     "output_type": "display_data"
    },
    {
     "data": {
      "image/png": "[encoded data removed]",
      "text/plain": [
       "<Figure size 432x288 with 1 Axes>"
      ]
     },
     "metadata": {
      "needs_background": "light"
     },
     "output_type": "display_data"
    },
    {
     "data": {
      "image/png": "[encoded data removed]",
      "text/plain": [
       "<Figure size 432x288 with 1 Axes>"
      ]
     },
     "metadata": {
      "needs_background": "light"
     },
     "output_type": "display_data"
    }
   ],
   "source": [
    "for i, losses in enumerate(losses_model):\n",
    "    plt.figure()\n",
    "    plt.plot(losses, label = str(i))\n",
    "    plt.legend(loc=\"upper right\")"
   ]
  },
  {
   "cell_type": "code",
   "execution_count": null,
   "metadata": {},
   "outputs": [],
   "source": []
  }
 ],
 "metadata": {
  "kernelspec": {
   "display_name": "Python 3",
   "language": "python",
   "name": "python3"
  },
  "language_info": {
   "codemirror_mode": {
    "name": "ipython",
    "version": 3
   },
   "file_extension": ".py",
   "mimetype": "text/x-python",
   "name": "python",
   "nbconvert_exporter": "python",
   "pygments_lexer": "ipython3",
   "version": "3.7.3"
  }
 },
 "nbformat": 4,
 "nbformat_minor": 2
}
