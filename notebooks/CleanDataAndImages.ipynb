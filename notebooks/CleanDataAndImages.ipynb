{
 "cells": [
  {
   "cell_type": "markdown",
   "metadata": {},
   "source": [
    "# Clean Data and Images\n",
    "\n",
    "Give image the correct name, and assign it a class"
   ]
  },
  {
   "cell_type": "code",
   "execution_count": 4,
   "metadata": {},
   "outputs": [
    {
     "name": "stdout",
     "output_type": "stream",
     "text": [
      "The autoreload extension is already loaded. To reload it, use:\n",
      "  %reload_ext autoreload\n"
     ]
    }
   ],
   "source": [
    "%load_ext autoreload\n",
    "%autoreload 2"
   ]
  },
  {
   "cell_type": "code",
   "execution_count": 5,
   "metadata": {},
   "outputs": [],
   "source": [
    "import os\n",
    "os.chdir('/Users/bcasares/git_folders/cs231n/cs231n_project/')"
   ]
  },
  {
   "cell_type": "code",
   "execution_count": 6,
   "metadata": {},
   "outputs": [],
   "source": [
    "from preprocess_data import renameImages\n",
    "from download_images import loadData"
   ]
  },
  {
   "cell_type": "code",
   "execution_count": 7,
   "metadata": {},
   "outputs": [
    {
     "data": {
      "text/html": [
       "<div>\n",
       "<style scoped>\n",
       "    .dataframe tbody tr th:only-of-type {\n",
       "        vertical-align: middle;\n",
       "    }\n",
       "\n",
       "    .dataframe tbody tr th {\n",
       "        vertical-align: top;\n",
       "    }\n",
       "\n",
       "    .dataframe thead th {\n",
       "        text-align: right;\n",
       "    }\n",
       "</style>\n",
       "<table border=\"1\" class=\"dataframe\">\n",
       "  <thead>\n",
       "    <tr style=\"text-align: right;\">\n",
       "      <th></th>\n",
       "      <th>Unnamed: 0</th>\n",
       "      <th>ZIPcode5</th>\n",
       "      <th>TaxRateArea</th>\n",
       "      <th>totBuildingDataLines</th>\n",
       "      <th>EffectiveYearBuilt</th>\n",
       "      <th>SQFTmain</th>\n",
       "      <th>LandValue</th>\n",
       "      <th>Bedrooms</th>\n",
       "      <th>Bathrooms</th>\n",
       "      <th>LandValue.1</th>\n",
       "      <th>Location 1</th>\n",
       "      <th>TotalValue</th>\n",
       "      <th>rowID</th>\n",
       "      <th>zip_class</th>\n",
       "    </tr>\n",
       "  </thead>\n",
       "  <tbody>\n",
       "    <tr>\n",
       "      <th>0</th>\n",
       "      <td>0</td>\n",
       "      <td>90222.0</td>\n",
       "      <td>2800</td>\n",
       "      <td>1</td>\n",
       "      <td>1954</td>\n",
       "      <td>1278</td>\n",
       "      <td>242000</td>\n",
       "      <td>3</td>\n",
       "      <td>2</td>\n",
       "      <td>242000</td>\n",
       "      <td>(33.912487579999997, -118.24696283)</td>\n",
       "      <td>309000</td>\n",
       "      <td>20186145008013</td>\n",
       "      <td>18</td>\n",
       "    </tr>\n",
       "    <tr>\n",
       "      <th>1</th>\n",
       "      <td>1</td>\n",
       "      <td>90222.0</td>\n",
       "      <td>2800</td>\n",
       "      <td>1</td>\n",
       "      <td>1948</td>\n",
       "      <td>750</td>\n",
       "      <td>129133</td>\n",
       "      <td>2</td>\n",
       "      <td>1</td>\n",
       "      <td>129133</td>\n",
       "      <td>(33.91248744, -118.24712762999999)</td>\n",
       "      <td>216123</td>\n",
       "      <td>20186145008012</td>\n",
       "      <td>18</td>\n",
       "    </tr>\n",
       "    <tr>\n",
       "      <th>2</th>\n",
       "      <td>2</td>\n",
       "      <td>90222.0</td>\n",
       "      <td>2800</td>\n",
       "      <td>1</td>\n",
       "      <td>1967</td>\n",
       "      <td>1140</td>\n",
       "      <td>252500</td>\n",
       "      <td>3</td>\n",
       "      <td>2</td>\n",
       "      <td>252500</td>\n",
       "      <td>(33.91281747, -118.24696307000001)</td>\n",
       "      <td>370000</td>\n",
       "      <td>20186145008004</td>\n",
       "      <td>18</td>\n",
       "    </tr>\n",
       "    <tr>\n",
       "      <th>3</th>\n",
       "      <td>3</td>\n",
       "      <td>90222.0</td>\n",
       "      <td>2800</td>\n",
       "      <td>1</td>\n",
       "      <td>1944</td>\n",
       "      <td>1065</td>\n",
       "      <td>222000</td>\n",
       "      <td>3</td>\n",
       "      <td>1</td>\n",
       "      <td>222000</td>\n",
       "      <td>(33.9137092, -118.24712748)</td>\n",
       "      <td>342000</td>\n",
       "      <td>20186145007013</td>\n",
       "      <td>18</td>\n",
       "    </tr>\n",
       "    <tr>\n",
       "      <th>4</th>\n",
       "      <td>4</td>\n",
       "      <td>93532.0</td>\n",
       "      <td>4500</td>\n",
       "      <td>1</td>\n",
       "      <td>1985</td>\n",
       "      <td>936</td>\n",
       "      <td>58500</td>\n",
       "      <td>2</td>\n",
       "      <td>2</td>\n",
       "      <td>58500</td>\n",
       "      <td>(34.657489150000004, -118.38092118)</td>\n",
       "      <td>234000</td>\n",
       "      <td>20183225006017</td>\n",
       "      <td>7</td>\n",
       "    </tr>\n",
       "  </tbody>\n",
       "</table>\n",
       "</div>"
      ],
      "text/plain": [
       "   Unnamed: 0  ZIPcode5  TaxRateArea  totBuildingDataLines  \\\n",
       "0           0   90222.0         2800                     1   \n",
       "1           1   90222.0         2800                     1   \n",
       "2           2   90222.0         2800                     1   \n",
       "3           3   90222.0         2800                     1   \n",
       "4           4   93532.0         4500                     1   \n",
       "\n",
       "   EffectiveYearBuilt  SQFTmain  LandValue  Bedrooms  Bathrooms  LandValue.1  \\\n",
       "0                1954      1278     242000         3          2       242000   \n",
       "1                1948       750     129133         2          1       129133   \n",
       "2                1967      1140     252500         3          2       252500   \n",
       "3                1944      1065     222000         3          1       222000   \n",
       "4                1985       936      58500         2          2        58500   \n",
       "\n",
       "                            Location 1  TotalValue           rowID  zip_class  \n",
       "0  (33.912487579999997, -118.24696283)      309000  20186145008013         18  \n",
       "1   (33.91248744, -118.24712762999999)      216123  20186145008012         18  \n",
       "2   (33.91281747, -118.24696307000001)      370000  20186145008004         18  \n",
       "3          (33.9137092, -118.24712748)      342000  20186145007013         18  \n",
       "4  (34.657489150000004, -118.38092118)      234000  20183225006017          7  "
      ]
     },
     "execution_count": 7,
     "metadata": {},
     "output_type": "execute_result"
    }
   ],
   "source": [
    "data = loadData()\n",
    "data.head()"
   ]
  },
  {
   "cell_type": "code",
   "execution_count": 8,
   "metadata": {},
   "outputs": [
    {
     "data": {
      "text/plain": [
       "(35387, 14)"
      ]
     },
     "execution_count": 8,
     "metadata": {},
     "output_type": "execute_result"
    }
   ],
   "source": [
    "data.shape\n"
   ]
  },
  {
   "cell_type": "code",
   "execution_count": 9,
   "metadata": {},
   "outputs": [],
   "source": [
    "to_keep = [\"ZIPcode5\", 'TaxRateArea', 'totBuildingDataLines', 'EffectiveYearBuilt', \"SQFTmain\", \"LandValue\", \n",
    "    \"Bedrooms\", 'Bathrooms', \"LandValue\",  \"Location 1\",'TotalValue',\"rowID\"]\n",
    "# Select the ones you want\n",
    "data = data[to_keep]\n"
   ]
  },
  {
   "cell_type": "code",
   "execution_count": 10,
   "metadata": {},
   "outputs": [
    {
     "data": {
      "text/plain": [
       "(35387, 12)"
      ]
     },
     "execution_count": 10,
     "metadata": {},
     "output_type": "execute_result"
    }
   ],
   "source": [
    "data.shape"
   ]
  },
  {
   "cell_type": "code",
   "execution_count": 11,
   "metadata": {},
   "outputs": [],
   "source": [
    "data = data.dropna()\n",
    "# data.isna().sum()"
   ]
  },
  {
   "cell_type": "code",
   "execution_count": 12,
   "metadata": {},
   "outputs": [],
   "source": [
    "g = data.groupby('ZIPcode5')\n",
    "\n",
    "zip_to_class_value = g.mean()[\"TotalValue\"].to_frame() \n",
    "zip_to_class_value = zip_to_class_value.sort_values(by=\"TotalValue\")\n",
    "zip_to_class_value[\"zip_class\"] = range(len(g))\n",
    "zip_to_class_value = zip_to_class_value[[\"zip_class\"]]\n",
    "zip_to_class_value = zip_to_class_value.to_dict()[\"zip_class\"]\n",
    "\n",
    "def assignClass(zip_to_class_value):\n",
    "    def inner(zip_code):\n",
    "        return zip_to_class_value[zip_code]\n",
    "    return inner\n",
    "\n",
    "data[\"zip_class\"] = data[\"ZIPcode5\"].apply(assignClass(zip_to_class_value))\n",
    "\n"
   ]
  },
  {
   "cell_type": "code",
   "execution_count": 13,
   "metadata": {},
   "outputs": [],
   "source": [
    "# data.to_csv(\"data/clean_data.csv\")"
   ]
  },
  {
   "cell_type": "code",
   "execution_count": null,
   "metadata": {},
   "outputs": [],
   "source": []
  },
  {
   "cell_type": "code",
   "execution_count": 14,
   "metadata": {},
   "outputs": [],
   "source": [
    "renameImages(source_directory=\"data/DOWNLOAD_HOUSES\")"
   ]
  },
  {
   "cell_type": "code",
   "execution_count": null,
   "metadata": {},
   "outputs": [],
   "source": []
  }
 ],
 "metadata": {
  "kernelspec": {
   "display_name": "Python 3",
   "language": "python",
   "name": "python3"
  },
  "language_info": {
   "codemirror_mode": {
    "name": "ipython",
    "version": 3
   },
   "file_extension": ".py",
   "mimetype": "text/x-python",
   "name": "python",
   "nbconvert_exporter": "python",
   "pygments_lexer": "ipython3",
   "version": "3.7.3"
  }
 },
 "nbformat": 4,
 "nbformat_minor": 2
}
